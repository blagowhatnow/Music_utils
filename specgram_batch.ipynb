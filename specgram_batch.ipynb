{
 "cells": [
  {
   "cell_type": "code",
   "execution_count": 1,
   "metadata": {},
   "outputs": [
    {
     "ename": "SyntaxError",
     "evalue": "invalid syntax (<ipython-input-1-d6cf74b16cec>, line 6)",
     "output_type": "error",
     "traceback": [
      "\u001b[0;36m  File \u001b[0;32m\"<ipython-input-1-d6cf74b16cec>\"\u001b[0;36m, line \u001b[0;32m6\u001b[0m\n\u001b[0;31m    path=\u001b[0m\n\u001b[0m         ^\u001b[0m\n\u001b[0;31mSyntaxError\u001b[0m\u001b[0;31m:\u001b[0m invalid syntax\n"
     ]
    }
   ],
   "source": [
    "import pylab\n",
    "import numpy as np\n",
    "from scipy.io import wavfile\n",
    "import matplotlib.pyplot as plt\n",
    "\n",
    "path=\"\"\n",
    "\n",
    "for filename in glob.glob(os.path.join(path, '*.wav')):\n",
    "    fs, frames = wavfile.read(filename)\n",
    "\n",
    "    channels = [\n",
    "    np.array(frames[:, 0]),\n",
    "    np.array(frames[:, 1])\n",
    "    ]\n",
    "\n",
    "    # generate specgram\n",
    "    Pxx, freqs, t, plot = pylab.specgram(\n",
    "        channels[0],\n",
    "        NFFT=4096, \n",
    "        Fs=44100, \n",
    "        detrend=pylab.detrend_none,\n",
    "        window=pylab.window_hanning,\n",
    "        noverlap=int(4096 * 0.5))\n",
    "\n",
    "        plt.axis('off')\n",
    "        plt.savefig(filename+\".png\")\n",
    "    "
   ]
  },
  {
   "cell_type": "code",
   "execution_count": null,
   "metadata": {},
   "outputs": [],
   "source": []
  }
 ],
 "metadata": {
  "kernelspec": {
   "display_name": "Python 2",
   "language": "python",
   "name": "python2"
  },
  "language_info": {
   "codemirror_mode": {
    "name": "ipython",
    "version": 2
   },
   "file_extension": ".py",
   "mimetype": "text/x-python",
   "name": "python",
   "nbconvert_exporter": "python",
   "pygments_lexer": "ipython2",
   "version": "2.7.16"
  }
 },
 "nbformat": 4,
 "nbformat_minor": 2
}
